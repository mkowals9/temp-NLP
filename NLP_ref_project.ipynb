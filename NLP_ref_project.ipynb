{
  "nbformat": 4,
  "nbformat_minor": 0,
  "metadata": {
    "colab": {
      "name": "NLP-ref-project.ipynb",
      "provenance": [],
      "authorship_tag": "ABX9TyN5KBY9G3LQMh8qyPFRwDHr",
      "include_colab_link": true
    },
    "kernelspec": {
      "name": "python3",
      "display_name": "Python 3"
    },
    "language_info": {
      "name": "python"
    },
    "accelerator": "GPU"
  },
  "cells": [
    {
      "cell_type": "markdown",
      "metadata": {
        "id": "view-in-github",
        "colab_type": "text"
      },
      "source": [
        "<a href=\"https://colab.research.google.com/github/mkowals9/temp-NLP/blob/main/NLP_ref_project.ipynb\" target=\"_parent\"><img src=\"https://colab.research.google.com/assets/colab-badge.svg\" alt=\"Open In Colab\"/></a>"
      ]
    },
    {
      "cell_type": "code",
      "execution_count": null,
      "metadata": {
        "colab": {
          "base_uri": "https://localhost:8080/"
        },
        "id": "WWYEC5cTbGW8",
        "outputId": "4dc45d49-046b-4a0a-b328-6cb43647c021"
      },
      "outputs": [
        {
          "output_type": "stream",
          "name": "stdout",
          "text": [
            "/home/project-ref\n"
          ]
        }
      ],
      "source": [
        "cd /home/project-ref"
      ]
    },
    {
      "cell_type": "code",
      "source": [
        "ls\n"
      ],
      "metadata": {
        "colab": {
          "base_uri": "https://localhost:8080/"
        },
        "id": "-K5cgOildlEn",
        "outputId": "db7235a2-0160-4579-d4ef-2e5139fe3666"
      },
      "execution_count": null,
      "outputs": [
        {
          "output_type": "stream",
          "name": "stdout",
          "text": [
            "analyze.py            higher_order.py  README.md         udapi_io.py\n",
            "conll.py              LICENSE          requirements.txt  util.py\n",
            "CorefUD2Ontonotes.py  metrics.py       run.py\n",
            "evaluate.py           model.py         setup_data.sh\n",
            "experiments.conf      preprocess.py    tensorize.py\n"
          ]
        }
      ]
    },
    {
      "cell_type": "code",
      "source": [
        "!pip install -r requirements.txt"
      ],
      "metadata": {
        "colab": {
          "base_uri": "https://localhost:8080/"
        },
        "id": "aE8zs0Wxdm25",
        "outputId": "3e918a4b-79ef-45a1-a5d8-1d56bd4224f2"
      },
      "execution_count": null,
      "outputs": [
        {
          "output_type": "stream",
          "name": "stdout",
          "text": [
            "Requirement already satisfied: torch==1.4.0 in /usr/local/lib/python3.7/dist-packages (from -r requirements.txt (line 1)) (1.4.0)\n",
            "Requirement already satisfied: torchvision==0.5.0 in /usr/local/lib/python3.7/dist-packages (from -r requirements.txt (line 2)) (0.5.0)\n",
            "Requirement already satisfied: transformers==2.4.1 in /usr/local/lib/python3.7/dist-packages (from -r requirements.txt (line 3)) (2.4.1)\n",
            "Requirement already satisfied: numpy in /usr/local/lib/python3.7/dist-packages (from -r requirements.txt (line 4)) (1.21.6)\n",
            "Requirement already satisfied: scikit-learn==0.22.1 in /usr/local/lib/python3.7/dist-packages (from -r requirements.txt (line 5)) (0.22.1)\n",
            "Requirement already satisfied: pyhocon in /usr/local/lib/python3.7/dist-packages (from -r requirements.txt (line 6)) (0.3.59)\n",
            "Requirement already satisfied: graphviz in /usr/local/lib/python3.7/dist-packages (from -r requirements.txt (line 7)) (0.10.1)\n",
            "Requirement already satisfied: tensorboard in /usr/local/lib/python3.7/dist-packages (from -r requirements.txt (line 8)) (2.8.0)\n",
            "Requirement already satisfied: six in /usr/local/lib/python3.7/dist-packages (from torchvision==0.5.0->-r requirements.txt (line 2)) (1.15.0)\n",
            "Requirement already satisfied: pillow>=4.1.1 in /usr/local/lib/python3.7/dist-packages (from torchvision==0.5.0->-r requirements.txt (line 2)) (7.1.2)\n",
            "Requirement already satisfied: boto3 in /usr/local/lib/python3.7/dist-packages (from transformers==2.4.1->-r requirements.txt (line 3)) (1.22.9)\n",
            "Requirement already satisfied: requests in /usr/local/lib/python3.7/dist-packages (from transformers==2.4.1->-r requirements.txt (line 3)) (2.23.0)\n",
            "Requirement already satisfied: filelock in /usr/local/lib/python3.7/dist-packages (from transformers==2.4.1->-r requirements.txt (line 3)) (3.6.0)\n",
            "Requirement already satisfied: tqdm>=4.27 in /usr/local/lib/python3.7/dist-packages (from transformers==2.4.1->-r requirements.txt (line 3)) (4.64.0)\n",
            "Requirement already satisfied: sentencepiece in /usr/local/lib/python3.7/dist-packages (from transformers==2.4.1->-r requirements.txt (line 3)) (0.1.96)\n",
            "Requirement already satisfied: regex!=2019.12.17 in /usr/local/lib/python3.7/dist-packages (from transformers==2.4.1->-r requirements.txt (line 3)) (2019.12.20)\n",
            "Requirement already satisfied: tokenizers==0.0.11 in /usr/local/lib/python3.7/dist-packages (from transformers==2.4.1->-r requirements.txt (line 3)) (0.0.11)\n",
            "Requirement already satisfied: sacremoses in /usr/local/lib/python3.7/dist-packages (from transformers==2.4.1->-r requirements.txt (line 3)) (0.0.53)\n",
            "Requirement already satisfied: scipy>=0.17.0 in /usr/local/lib/python3.7/dist-packages (from scikit-learn==0.22.1->-r requirements.txt (line 5)) (1.4.1)\n",
            "Requirement already satisfied: joblib>=0.11 in /usr/local/lib/python3.7/dist-packages (from scikit-learn==0.22.1->-r requirements.txt (line 5)) (1.1.0)\n",
            "Requirement already satisfied: pyparsing~=2.0 in /usr/local/lib/python3.7/dist-packages (from pyhocon->-r requirements.txt (line 6)) (2.4.7)\n",
            "Requirement already satisfied: tensorboard-plugin-wit>=1.6.0 in /usr/local/lib/python3.7/dist-packages (from tensorboard->-r requirements.txt (line 8)) (1.8.1)\n",
            "Requirement already satisfied: markdown>=2.6.8 in /usr/local/lib/python3.7/dist-packages (from tensorboard->-r requirements.txt (line 8)) (3.3.6)\n",
            "Requirement already satisfied: google-auth-oauthlib<0.5,>=0.4.1 in /usr/local/lib/python3.7/dist-packages (from tensorboard->-r requirements.txt (line 8)) (0.4.6)\n",
            "Requirement already satisfied: tensorboard-data-server<0.7.0,>=0.6.0 in /usr/local/lib/python3.7/dist-packages (from tensorboard->-r requirements.txt (line 8)) (0.6.1)\n",
            "Requirement already satisfied: wheel>=0.26 in /usr/local/lib/python3.7/dist-packages (from tensorboard->-r requirements.txt (line 8)) (0.37.1)\n",
            "Requirement already satisfied: absl-py>=0.4 in /usr/local/lib/python3.7/dist-packages (from tensorboard->-r requirements.txt (line 8)) (1.0.0)\n",
            "Requirement already satisfied: grpcio>=1.24.3 in /usr/local/lib/python3.7/dist-packages (from tensorboard->-r requirements.txt (line 8)) (1.44.0)\n",
            "Requirement already satisfied: protobuf>=3.6.0 in /usr/local/lib/python3.7/dist-packages (from tensorboard->-r requirements.txt (line 8)) (3.17.3)\n",
            "Requirement already satisfied: werkzeug>=0.11.15 in /usr/local/lib/python3.7/dist-packages (from tensorboard->-r requirements.txt (line 8)) (1.0.1)\n",
            "Requirement already satisfied: setuptools>=41.0.0 in /usr/local/lib/python3.7/dist-packages (from tensorboard->-r requirements.txt (line 8)) (57.4.0)\n",
            "Requirement already satisfied: google-auth<3,>=1.6.3 in /usr/local/lib/python3.7/dist-packages (from tensorboard->-r requirements.txt (line 8)) (1.35.0)\n",
            "Requirement already satisfied: cachetools<5.0,>=2.0.0 in /usr/local/lib/python3.7/dist-packages (from google-auth<3,>=1.6.3->tensorboard->-r requirements.txt (line 8)) (4.2.4)\n",
            "Requirement already satisfied: pyasn1-modules>=0.2.1 in /usr/local/lib/python3.7/dist-packages (from google-auth<3,>=1.6.3->tensorboard->-r requirements.txt (line 8)) (0.2.8)\n",
            "Requirement already satisfied: rsa<5,>=3.1.4 in /usr/local/lib/python3.7/dist-packages (from google-auth<3,>=1.6.3->tensorboard->-r requirements.txt (line 8)) (4.8)\n",
            "Requirement already satisfied: requests-oauthlib>=0.7.0 in /usr/local/lib/python3.7/dist-packages (from google-auth-oauthlib<0.5,>=0.4.1->tensorboard->-r requirements.txt (line 8)) (1.3.1)\n",
            "Requirement already satisfied: importlib-metadata>=4.4 in /usr/local/lib/python3.7/dist-packages (from markdown>=2.6.8->tensorboard->-r requirements.txt (line 8)) (4.11.3)\n",
            "Requirement already satisfied: typing-extensions>=3.6.4 in /usr/local/lib/python3.7/dist-packages (from importlib-metadata>=4.4->markdown>=2.6.8->tensorboard->-r requirements.txt (line 8)) (4.2.0)\n",
            "Requirement already satisfied: zipp>=0.5 in /usr/local/lib/python3.7/dist-packages (from importlib-metadata>=4.4->markdown>=2.6.8->tensorboard->-r requirements.txt (line 8)) (3.8.0)\n",
            "Requirement already satisfied: pyasn1<0.5.0,>=0.4.6 in /usr/local/lib/python3.7/dist-packages (from pyasn1-modules>=0.2.1->google-auth<3,>=1.6.3->tensorboard->-r requirements.txt (line 8)) (0.4.8)\n",
            "Requirement already satisfied: chardet<4,>=3.0.2 in /usr/local/lib/python3.7/dist-packages (from requests->transformers==2.4.1->-r requirements.txt (line 3)) (3.0.4)\n",
            "Requirement already satisfied: certifi>=2017.4.17 in /usr/local/lib/python3.7/dist-packages (from requests->transformers==2.4.1->-r requirements.txt (line 3)) (2021.10.8)\n",
            "Requirement already satisfied: idna<3,>=2.5 in /usr/local/lib/python3.7/dist-packages (from requests->transformers==2.4.1->-r requirements.txt (line 3)) (2.10)\n",
            "Requirement already satisfied: urllib3!=1.25.0,!=1.25.1,<1.26,>=1.21.1 in /usr/local/lib/python3.7/dist-packages (from requests->transformers==2.4.1->-r requirements.txt (line 3)) (1.25.11)\n",
            "Requirement already satisfied: oauthlib>=3.0.0 in /usr/local/lib/python3.7/dist-packages (from requests-oauthlib>=0.7.0->google-auth-oauthlib<0.5,>=0.4.1->tensorboard->-r requirements.txt (line 8)) (3.2.0)\n",
            "Requirement already satisfied: botocore<1.26.0,>=1.25.9 in /usr/local/lib/python3.7/dist-packages (from boto3->transformers==2.4.1->-r requirements.txt (line 3)) (1.25.9)\n",
            "Requirement already satisfied: s3transfer<0.6.0,>=0.5.0 in /usr/local/lib/python3.7/dist-packages (from boto3->transformers==2.4.1->-r requirements.txt (line 3)) (0.5.2)\n",
            "Requirement already satisfied: jmespath<2.0.0,>=0.7.1 in /usr/local/lib/python3.7/dist-packages (from boto3->transformers==2.4.1->-r requirements.txt (line 3)) (1.0.0)\n",
            "Requirement already satisfied: python-dateutil<3.0.0,>=2.1 in /usr/local/lib/python3.7/dist-packages (from botocore<1.26.0,>=1.25.9->boto3->transformers==2.4.1->-r requirements.txt (line 3)) (2.8.2)\n",
            "Requirement already satisfied: click in /usr/local/lib/python3.7/dist-packages (from sacremoses->transformers==2.4.1->-r requirements.txt (line 3)) (7.1.2)\n"
          ]
        }
      ]
    },
    {
      "cell_type": "code",
      "source": [
        "!pip install udapi\n"
      ],
      "metadata": {
        "colab": {
          "base_uri": "https://localhost:8080/"
        },
        "id": "AJhCR4tJfqmb",
        "outputId": "35b0fcdb-7cf2-42db-efe8-7916a66bb9e7"
      },
      "execution_count": null,
      "outputs": [
        {
          "output_type": "stream",
          "name": "stdout",
          "text": [
            "Collecting udapi\n",
            "  Downloading udapi-0.3.0-py3-none-any.whl (254 kB)\n",
            "\u001b[?25l\r\u001b[K     |█▎                              | 10 kB 25.7 MB/s eta 0:00:01\r\u001b[K     |██▋                             | 20 kB 30.2 MB/s eta 0:00:01\r\u001b[K     |███▉                            | 30 kB 36.1 MB/s eta 0:00:01\r\u001b[K     |█████▏                          | 40 kB 16.1 MB/s eta 0:00:01\r\u001b[K     |██████▍                         | 51 kB 12.6 MB/s eta 0:00:01\r\u001b[K     |███████▊                        | 61 kB 14.6 MB/s eta 0:00:01\r\u001b[K     |█████████                       | 71 kB 12.9 MB/s eta 0:00:01\r\u001b[K     |██████████▎                     | 81 kB 14.1 MB/s eta 0:00:01\r\u001b[K     |███████████▋                    | 92 kB 15.6 MB/s eta 0:00:01\r\u001b[K     |████████████▉                   | 102 kB 12.7 MB/s eta 0:00:01\r\u001b[K     |██████████████▏                 | 112 kB 12.7 MB/s eta 0:00:01\r\u001b[K     |███████████████▌                | 122 kB 12.7 MB/s eta 0:00:01\r\u001b[K     |████████████████▊               | 133 kB 12.7 MB/s eta 0:00:01\r\u001b[K     |██████████████████              | 143 kB 12.7 MB/s eta 0:00:01\r\u001b[K     |███████████████████▎            | 153 kB 12.7 MB/s eta 0:00:01\r\u001b[K     |████████████████████▋           | 163 kB 12.7 MB/s eta 0:00:01\r\u001b[K     |██████████████████████          | 174 kB 12.7 MB/s eta 0:00:01\r\u001b[K     |███████████████████████▏        | 184 kB 12.7 MB/s eta 0:00:01\r\u001b[K     |████████████████████████▌       | 194 kB 12.7 MB/s eta 0:00:01\r\u001b[K     |█████████████████████████▊      | 204 kB 12.7 MB/s eta 0:00:01\r\u001b[K     |███████████████████████████     | 215 kB 12.7 MB/s eta 0:00:01\r\u001b[K     |████████████████████████████▍   | 225 kB 12.7 MB/s eta 0:00:01\r\u001b[K     |█████████████████████████████▋  | 235 kB 12.7 MB/s eta 0:00:01\r\u001b[K     |███████████████████████████████ | 245 kB 12.7 MB/s eta 0:00:01\r\u001b[K     |████████████████████████████████| 254 kB 12.7 MB/s \n",
            "\u001b[?25hCollecting colorama\n",
            "  Downloading colorama-0.4.4-py2.py3-none-any.whl (16 kB)\n",
            "Requirement already satisfied: termcolor in /usr/local/lib/python3.7/dist-packages (from udapi) (1.1.0)\n",
            "Installing collected packages: colorama, udapi\n",
            "Successfully installed colorama-0.4.4 udapi-0.3.0\n"
          ]
        }
      ]
    },
    {
      "cell_type": "code",
      "source": [
        "!python preprocess.py train_mbert_polish"
      ],
      "metadata": {
        "colab": {
          "base_uri": "https://localhost:8080/"
        },
        "id": "Xe83KEsrf2lB",
        "outputId": "403bda61-be70-4ade-c78c-a610b16937e8"
      },
      "execution_count": null,
      "outputs": [
        {
          "output_type": "stream",
          "name": "stdout",
          "text": [
            "['preprocess.py', 'train_mbert_polish']\n",
            "05/09/2022 16:03:42 - INFO - util - Running experiment: train_mbert_polish\n",
            "05/09/2022 16:03:42 - INFO - util - data_dir = \"./data/UD/CorefUD-1.0-public/data/CorefUD_Polish-PCC/\"\n",
            "language = \"pl_pcc-corefud\"\n",
            "from_tf = false\n",
            "filter_singletons = true\n",
            "max_top_antecedents = 50\n",
            "max_training_sentences = 6\n",
            "top_span_ratio = 0.4\n",
            "max_num_extracted_spans = 3900\n",
            "max_num_speakers = 20\n",
            "max_segment_len = 512\n",
            "bert_learning_rate = 1e-05\n",
            "task_learning_rate = 0.0002\n",
            "loss_type = \"marginalized\"\n",
            "mention_loss_coef = 0\n",
            "false_new_delta = 1.5\n",
            "adam_eps = 1e-06\n",
            "adam_weight_decay = 0.01\n",
            "warmup_ratio = 0.1\n",
            "max_grad_norm = 1\n",
            "gradient_accumulation_steps = 1\n",
            "coref_depth = 1\n",
            "higher_order = \"attended_antecedent\"\n",
            "coarse_to_fine = true\n",
            "fine_grained = true\n",
            "dropout_rate = 0.3\n",
            "ffnn_size = 3000\n",
            "ffnn_depth = 1\n",
            "cluster_ffnn_size = 3000\n",
            "cluster_reduce = \"mean\"\n",
            "easy_cluster_first = false\n",
            "cluster_dloss = false\n",
            "num_epochs = 60\n",
            "feature_emb_size = 20\n",
            "max_span_width = 30\n",
            "use_metadata = true\n",
            "use_features = true\n",
            "use_segment_distance = true\n",
            "model_heads = true\n",
            "use_width_prior = true\n",
            "use_distance_prior = true\n",
            "conll_eval_path = \"./data/UD/slavic/dev.polish.conllu\"\n",
            "conll_test_path = \"./data//test.english.v4_gold_conll\"\n",
            "genres = [\n",
            "  \"bc\"\n",
            "  \"bn\"\n",
            "  \"mz\"\n",
            "  \"nw\"\n",
            "  \"pt\"\n",
            "  \"tc\"\n",
            "  \"wb\"\n",
            "]\n",
            "eval_frequency = 1000\n",
            "report_frequency = 100\n",
            "log_root = \"./data/\"\n",
            "num_docs = 1462\n",
            "bert_tokenizer_name = \"bert-base-multilingual-cased\"\n",
            "bert_pretrained_name_or_path = \"bert-base-multilingual-cased\"\n",
            "conll_pred_path = \"./data/UD/CorefUD-1.0-public/data/CorefUD_Polish-PCC/pl_pcc-corefud-dev.conllu\"\n",
            "log_dir = \"./data/train_mbert_polish\"\n",
            "tb_dir = \"./data/tensorboard\"\n",
            "05/09/2022 16:03:43 - INFO - transformers.configuration_utils - loading configuration file https://s3.amazonaws.com/models.huggingface.co/bert/bert-base-multilingual-cased-config.json from cache at /root/.cache/torch/transformers/45629519f3117b89d89fd9c740073d8e4c1f0a70f9842476185100a8afe715d1.65df3cef028a0c91a7b059e4c404a975ebe6843c71267b67019c0e9cfa8a88f0\n",
            "05/09/2022 16:03:43 - INFO - transformers.configuration_utils - Model config BertConfig {\n",
            "  \"architectures\": [\n",
            "    \"BertForMaskedLM\"\n",
            "  ],\n",
            "  \"attention_probs_dropout_prob\": 0.1,\n",
            "  \"bos_token_id\": 0,\n",
            "  \"directionality\": \"bidi\",\n",
            "  \"do_sample\": false,\n",
            "  \"eos_token_ids\": 0,\n",
            "  \"finetuning_task\": null,\n",
            "  \"hidden_act\": \"gelu\",\n",
            "  \"hidden_dropout_prob\": 0.1,\n",
            "  \"hidden_size\": 768,\n",
            "  \"id2label\": {\n",
            "    \"0\": \"LABEL_0\",\n",
            "    \"1\": \"LABEL_1\"\n",
            "  },\n",
            "  \"initializer_range\": 0.02,\n",
            "  \"intermediate_size\": 3072,\n",
            "  \"is_decoder\": false,\n",
            "  \"label2id\": {\n",
            "    \"LABEL_0\": 0,\n",
            "    \"LABEL_1\": 1\n",
            "  },\n",
            "  \"layer_norm_eps\": 1e-12,\n",
            "  \"length_penalty\": 1.0,\n",
            "  \"max_length\": 20,\n",
            "  \"max_position_embeddings\": 512,\n",
            "  \"model_type\": \"bert\",\n",
            "  \"num_attention_heads\": 12,\n",
            "  \"num_beams\": 1,\n",
            "  \"num_hidden_layers\": 12,\n",
            "  \"num_labels\": 2,\n",
            "  \"num_return_sequences\": 1,\n",
            "  \"output_attentions\": false,\n",
            "  \"output_hidden_states\": false,\n",
            "  \"output_past\": true,\n",
            "  \"pad_token_id\": 0,\n",
            "  \"pooler_fc_size\": 768,\n",
            "  \"pooler_num_attention_heads\": 12,\n",
            "  \"pooler_num_fc_layers\": 3,\n",
            "  \"pooler_size_per_head\": 128,\n",
            "  \"pooler_type\": \"first_token_transform\",\n",
            "  \"pruned_heads\": {},\n",
            "  \"repetition_penalty\": 1.0,\n",
            "  \"temperature\": 1.0,\n",
            "  \"top_k\": 50,\n",
            "  \"top_p\": 1.0,\n",
            "  \"torchscript\": false,\n",
            "  \"type_vocab_size\": 2,\n",
            "  \"use_bfloat16\": false,\n",
            "  \"vocab_size\": 119547\n",
            "}\n",
            "\n",
            "05/09/2022 16:03:43 - INFO - transformers.tokenization_utils - loading file https://s3.amazonaws.com/models.huggingface.co/bert/bert-base-multilingual-cased-vocab.txt from cache at /root/.cache/torch/transformers/96435fa287fbf7e469185f1062386e05a075cadbf6838b74da22bf64b080bc32.99bcd55fc66f4f3360bc49ba472b940b8dcf223ea6a345deb969d607ca900729\n",
            "05/09/2022 16:03:43 - INFO - __main__ - Minimizing ./data/UD/CorefUD-1.0-public/data/CorefUD_Polish-PCC/pl_pcc-corefud-dev.conllu...\n",
            "Merging clusters (shouldn't happen very often)\n",
            "05/09/2022 16:04:29 - INFO - __main__ - Processed 183 documents to ./data/UD/CorefUD-1.0-public/data/CorefUD_Polish-PCC/pl_pcc-corefud-dev.512.jsonlines\n",
            "05/09/2022 16:04:29 - INFO - __main__ - Minimizing ./data/UD/CorefUD-1.0-public/data/CorefUD_Polish-PCC/pl_pcc-corefud-train.conllu...\n",
            "05/09/2022 16:17:32 - INFO - __main__ - input_data/PCC-1.5-MMAX/long/199704230043_words.xml: no sentence end found; split at token end\n",
            "Merging clusters (shouldn't happen very often)\n",
            "05/09/2022 16:18:59 - INFO - __main__ - Processed 1463 documents to ./data/UD/CorefUD-1.0-public/data/CorefUD_Polish-PCC/pl_pcc-corefud-train.512.jsonlines\n"
          ]
        }
      ]
    },
    {
      "cell_type": "code",
      "source": [
        "!python evaluate.py train_spanbert_large_ml0_d2 May08_12-38-29_58000 0"
      ],
      "metadata": {
        "colab": {
          "base_uri": "https://localhost:8080/"
        },
        "id": "6jCd5bmIn1IP",
        "outputId": "01d78f5a-4232-490c-f6d1-d001bfd04b24"
      },
      "execution_count": null,
      "outputs": [
        {
          "output_type": "stream",
          "name": "stdout",
          "text": [
            "/usr/local/lib/python3.7/dist-packages/sklearn/utils/linear_assignment_.py:22: FutureWarning: The linear_assignment_ module is deprecated in 0.21 and will be removed from 0.23. Use scipy.optimize.linear_sum_assignment instead.\n",
            "  FutureWarning)\n",
            "2022-05-09 16:20:48.786339: E tensorflow/stream_executor/cuda/cuda_driver.cc:271] failed call to cuInit: CUDA_ERROR_NO_DEVICE: no CUDA-capable device is detected\n",
            "05/09/2022 16:20:48 - INFO - util - Running experiment: train_spanbert_large_ml0_d2\n",
            "Traceback (most recent call last):\n",
            "  File \"evaluate.py\", line 20, in <module>\n",
            "    evaluate(config_name, gpu_id, saved_suffix)\n",
            "  File \"evaluate.py\", line 7, in evaluate\n",
            "    runner = Runner(config_name, gpu_id)\n",
            "  File \"/home/project-ref/run.py\", line 64, in __init__\n",
            "    self.config = util.initialize_config(config_name)\n",
            "  File \"/home/project-ref/util.py\", line 21, in initialize_config\n",
            "    config = pyhocon.ConfigFactory.parse_file(\"experiments.conf\")[config_name]\n",
            "  File \"/usr/local/lib/python3.7/dist-packages/pyhocon/config_tree.py\", line 393, in __getitem__\n",
            "    val = self.get(item)\n",
            "  File \"/usr/local/lib/python3.7/dist-packages/pyhocon/config_tree.py\", line 236, in get\n",
            "    return self._get(ConfigTree.parse_key(key), 0, default)\n",
            "  File \"/usr/local/lib/python3.7/dist-packages/pyhocon/config_tree.py\", line 177, in _get\n",
            "    u\"No configuration setting found for key {key}\".format(key='.'.join(key_path[:key_index + 1])))\n",
            "pyhocon.exceptions.ConfigMissingException: 'No configuration setting found for key train_spanbert_large_ml0_d2'\n"
          ]
        }
      ]
    }
  ]
}